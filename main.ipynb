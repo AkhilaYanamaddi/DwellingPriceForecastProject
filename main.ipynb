{
 "cells": [
  {
   "cell_type": "markdown",
   "id": "4281cc58",
   "metadata": {},
   "source": [
    "# Dwelling Price Forecast"
   ]
  },
  {
   "cell_type": "markdown",
   "id": "3bba50b2",
   "metadata": {},
   "source": [
    "# Install and Import Libraries"
   ]
  },
  {
   "cell_type": "code",
   "execution_count": 1,
   "id": "4c2ce6ea",
   "metadata": {},
   "outputs": [
    {
     "name": "stdout",
     "output_type": "stream",
     "text": [
      "Requirement already satisfied: tqdm in c:\\users\\user\\anaconda3\\lib\\site-packages (4.64.1)\n",
      "Requirement already satisfied: colorama in c:\\users\\user\\anaconda3\\lib\\site-packages (from tqdm) (0.4.6)\n"
     ]
    }
   ],
   "source": [
    "!pip install tqdm"
   ]
  },
  {
   "cell_type": "code",
   "execution_count": 2,
   "id": "4dc85127",
   "metadata": {},
   "outputs": [],
   "source": [
    "# Imports\n",
    "import pandas as pd\n",
    "import numpy as np\n",
    "import matplotlib.pyplot as plt\n",
    "import seaborn as sns\n",
    "from datetime import datetime\n",
    "from sklearn.tree import DecisionTreeRegressor\n",
    "from sklearn.model_selection import train_test_split\n",
    "\n",
    "from sklearn.model_selection import cross_val_score\n",
    "from sklearn.svm import SVR\n",
    "from sklearn.neighbors import KNeighborsRegressor\n",
    "from scipy.sparse import csr_matrix\n",
    "from sklearn.linear_model import LinearRegression\n",
    "from tqdm import tqdm\n",
    "from sklearn.utils import resample\n",
    "from sklearn.model_selection import KFold\n",
    "from sklearn.metrics import accuracy_score\n",
    "from sklearn.metrics import f1_score, confusion_matrix\n",
    "from sklearn.model_selection import GridSearchCV\n",
    "\n",
    "from sklearn.linear_model import RidgeCV, ElasticNetCV\n",
    "\n",
    "from sklearn.ensemble import RandomForestRegressor\n",
    "from sklearn.ensemble import GradientBoostingRegressor\n",
    "from sklearn.preprocessing import OneHotEncoder, StandardScaler, MinMaxScaler\n",
    "from sklearn.metrics import r2_score, mean_squared_error, mean_absolute_error\n",
    "from sklearn.feature_selection import SelectKBest, f_regression\n",
    "\n",
    "from sklearn.feature_selection import SelectKBest, f_regression\n",
    "from sklearn.pipeline import Pipeline\n",
    "from sklearn.neighbors import KNeighborsRegressor\n",
    "from sklearn.preprocessing import StandardScaler"
   ]
  },
  {
   "cell_type": "markdown",
   "id": "104cfab7",
   "metadata": {},
   "source": [
    "# Load Dataset"
   ]
  },
  {
   "cell_type": "code",
   "execution_count": 3,
   "id": "93ff0d47",
   "metadata": {},
   "outputs": [],
   "source": [
    "# Load the dataset\n",
    "# url = \"https://www.kaggle.com/datasets/ahmedshahriarsakib/usa-real-estate-dataset/\"\n",
    "path_to_csv = \"realtor-data.zip.csv\"\n",
    "df = pd.read_csv(path_to_csv)\n",
    "print(path_to_csv)"
   ]
  },
  {
   "cell_type": "markdown",
   "id": "7858bda2",
   "metadata": {},
   "source": [
    "# Dataset Properties"
   ]
  },
  {
   "cell_type": "code",
   "execution_count": 4,
   "id": "2fc3941d",
   "metadata": {},
   "outputs": [
    {
     "name": "stdout",
     "output_type": "stream",
     "text": [
      "     status  bed  bath  acre_lot        city        state  zip_code  \\\n",
      "0  for_sale  3.0   2.0      0.12    Adjuntas  Puerto Rico     601.0   \n",
      "1  for_sale  4.0   2.0      0.08    Adjuntas  Puerto Rico     601.0   \n",
      "2  for_sale  2.0   1.0      0.15  Juana Diaz  Puerto Rico     795.0   \n",
      "3  for_sale  4.0   2.0      0.10       Ponce  Puerto Rico     731.0   \n",
      "4  for_sale  6.0   2.0      0.05    Mayaguez  Puerto Rico     680.0   \n",
      "\n",
      "   house_size prev_sold_date     price  \n",
      "0       920.0            NaN  105000.0  \n",
      "1      1527.0            NaN   80000.0  \n",
      "2       748.0            NaN   67000.0  \n",
      "3      1800.0            NaN  145000.0  \n",
      "4         NaN            NaN   65000.0  \n"
     ]
    }
   ],
   "source": [
    "# Display the first few rows of the dataset\n",
    "print(df.head())"
   ]
  },
  {
   "cell_type": "code",
   "execution_count": 5,
   "id": "2bea34ae",
   "metadata": {},
   "outputs": [],
   "source": [
    "# Check for missing values\n",
    "df.duplicated().sum()\n",
    "df.drop_duplicates(inplace=True)"
   ]
  },
  {
   "cell_type": "code",
   "execution_count": 6,
   "id": "04f8160d",
   "metadata": {},
   "outputs": [
    {
     "name": "stdout",
     "output_type": "stream",
     "text": [
      "Percentage Missing Value %\n"
     ]
    },
    {
     "data": {
      "text/plain": [
       "status             0.000000\n",
       "bed               14.670477\n",
       "bath              13.263938\n",
       "acre_lot          28.347117\n",
       "city               0.018360\n",
       "state              0.000000\n",
       "zip_code           0.027141\n",
       "house_size        33.207740\n",
       "prev_sold_date    46.653682\n",
       "price              0.015167\n",
       "dtype: float64"
      ]
     },
     "execution_count": 6,
     "metadata": {},
     "output_type": "execute_result"
    }
   ],
   "source": [
    "total_missing = df.isna().sum()*100/len(df)\n",
    "print('Percentage Missing Value %')\n",
    "total_missing"
   ]
  },
  {
   "cell_type": "code",
   "execution_count": 7,
   "id": "b6cf0929",
   "metadata": {},
   "outputs": [],
   "source": [
    "# Mode imputation to handle missing value\n",
    "df['bed'].fillna(df['bed'].mode()[0], inplace=True)\n",
    "df['bath'].fillna(df['bath'].mode()[0], inplace=True)\n",
    "df['acre_lot'].fillna(df['acre_lot'].mode()[0], inplace=True)\n",
    "df['house_size'].fillna(df['house_size'].mode()[0], inplace=True)\n",
    "df['price'].fillna(df['price'].mean(), inplace=True)"
   ]
  },
  {
   "cell_type": "code",
   "execution_count": 8,
   "id": "06fddf62",
   "metadata": {},
   "outputs": [],
   "source": [
    "df = df.dropna(subset=['zip_code','city'])\n",
    "df = df.drop('prev_sold_date', axis=1)"
   ]
  },
  {
   "cell_type": "code",
   "execution_count": 9,
   "id": "787e56b9",
   "metadata": {},
   "outputs": [
    {
     "data": {
      "text/plain": [
       "status        0\n",
       "bed           0\n",
       "bath          0\n",
       "acre_lot      0\n",
       "city          0\n",
       "state         0\n",
       "zip_code      0\n",
       "house_size    0\n",
       "price         0\n",
       "dtype: int64"
      ]
     },
     "execution_count": 9,
     "metadata": {},
     "output_type": "execute_result"
    }
   ],
   "source": [
    "df.isnull().sum()"
   ]
  },
  {
   "cell_type": "markdown",
   "id": "56b18dbf",
   "metadata": {},
   "source": [
    "# Visualization"
   ]
  },
  {
   "cell_type": "code",
   "execution_count": 10,
   "id": "b3de47b6",
   "metadata": {},
   "outputs": [
    {
     "data": {
      "image/png": "[encoded data removed]",
      "text/plain": [
       "<Figure size 640x480 with 1 Axes>"
      ]
     },
     "metadata": {},
     "output_type": "display_data"
    }
   ],
   "source": [
    "sns.countplot(x='status', data=df)\n",
    "plt.show()"
   ]
  },
  {
   "cell_type": "code",
   "execution_count": 11,
   "id": "2cd57492",
   "metadata": {},
   "outputs": [
    {
     "data": {
      "image/png": "[encoded data removed]",
      "text/plain": [
       "<Figure size 640x480 with 1 Axes>"
      ]
     },
     "metadata": {},
     "output_type": "display_data"
    }
   ],
   "source": [
    "sns.boxplot(x='price', data=df)\n",
    "plt.show()"
   ]
  },
  {
   "cell_type": "code",
   "execution_count": 12,
   "id": "30fbb782",
   "metadata": {},
   "outputs": [
    {
     "data": {
      "image/png": "[encoded data removed]",
      "text/plain": [
       "<Figure size 640x480 with 1 Axes>"
      ]
     },
     "metadata": {},
     "output_type": "display_data"
    }
   ],
   "source": [
    "sns.scatterplot(x='house_size', y='price', data=df)\n",
    "plt.show()"
   ]
  },
  {
   "cell_type": "code",
   "execution_count": 13,
   "id": "da0b275c",
   "metadata": {},
   "outputs": [
    {
     "data": {
      "image/png": "[encoded data removed]",
      "text/plain": [
       "<Figure size 640x480 with 1 Axes>"
      ]
     },
     "metadata": {},
     "output_type": "display_data"
    },
    {
     "name": "stdout",
     "output_type": "stream",
     "text": [
      "Total Row With Outlier: 125231\n"
     ]
    }
   ],
   "source": [
    "column_num = ['bed','bath','acre_lot','house_size','price']\n",
    "plt.boxplot(df[column_num])\n",
    "plt.xticks([1, 2, 3, 4, 5], column_num)\n",
    "plt.title('Outlier Before Remove')\n",
    "plt.show()\n",
    "print(f'Total Row With Outlier: {df.shape[0]}')"
   ]
  },
  {
   "cell_type": "code",
   "execution_count": 14,
   "id": "4b59cd6a",
   "metadata": {},
   "outputs": [],
   "source": [
    "# REmove Outliers\n",
    "df['price'] = np.log1p(df['price'])\n",
    "df['acre_lot'] = np.log1p(df['acre_lot'])\n",
    "df['house_size'] = np.log1p(df['house_size'])\n",
    "df['bed'] = np.log1p(df['bed'])\n",
    "df['bath'] = np.log1p(df['bath'])"
   ]
  },
  {
   "cell_type": "code",
   "execution_count": 15,
   "id": "4a703c60",
   "metadata": {},
   "outputs": [
    {
     "data": {
      "image/png": "[encoded data removed]",
      "text/plain": [
       "<Figure size 640x480 with 1 Axes>"
      ]
     },
     "metadata": {},
     "output_type": "display_data"
    },
    {
     "name": "stdout",
     "output_type": "stream",
     "text": [
      "Total Row With Outlier: 125231\n"
     ]
    }
   ],
   "source": [
    "column_num = ['bed','bath','acre_lot','house_size','price']\n",
    "plt.boxplot(df[column_num])\n",
    "plt.xticks([1, 2, 3, 4, 5], column_num)\n",
    "plt.title('Outlier AFter Remove')\n",
    "plt.show()\n",
    "print(f'Total Row With Outlier: {df.shape[0]}')"
   ]
  },
  {
   "cell_type": "code",
   "execution_count": 16,
   "id": "8066d5f6",
   "metadata": {},
   "outputs": [
    {
     "name": "stderr",
     "output_type": "stream",
     "text": [
      "C:\\Users\\USER\\AppData\\Local\\Temp\\ipykernel_3984\\488824891.py:2: FutureWarning: The default value of numeric_only in DataFrame.corr is deprecated. In a future version, it will default to False. Select only valid columns or specify the value of numeric_only to silence this warning.\n",
      "  df.corr(),\n"
     ]
    },
    {
     "data": {
      "text/plain": [
       "<function matplotlib.pyplot.show(close=None, block=None)>"
      ]
     },
     "execution_count": 16,
     "metadata": {},
     "output_type": "execute_result"
    },
    {
     "data": {
      "image/png": "[encoded data removed]",
      "text/plain": [
       "<Figure size 800x800 with 4 Axes>"
      ]
     },
     "metadata": {},
     "output_type": "display_data"
    }
   ],
   "source": [
    "sns.clustermap(\n",
    "    df.corr(),\n",
    "    annot=True,\n",
    "    cmap='mako',\n",
    "    figsize=(8, 8)\n",
    ")\n",
    "plt.show"
   ]
  },
  {
   "cell_type": "code",
   "execution_count": 17,
   "id": "fa407c6b",
   "metadata": {},
   "outputs": [
    {
     "data": {
      "text/plain": [
       "13.303019    978\n",
       "13.120363    946\n",
       "12.896719    921\n",
       "13.457407    875\n",
       "12.959847    848\n",
       "            ... \n",
       "12.311437      1\n",
       "13.708817      1\n",
       "14.092300      1\n",
       "13.171152      1\n",
       "14.380257      1\n",
       "Name: price, Length: 7775, dtype: int64"
      ]
     },
     "execution_count": 17,
     "metadata": {},
     "output_type": "execute_result"
    }
   ],
   "source": [
    "df['price'].value_counts()"
   ]
  },
  {
   "cell_type": "markdown",
   "id": "a9b5a634",
   "metadata": {},
   "source": [
    "# MODEL PREDICTING PRICE HOUSE"
   ]
  },
  {
   "cell_type": "markdown",
   "id": "ddbcdc56",
   "metadata": {},
   "source": [
    "## Splitting the Data to Train and Test Sets"
   ]
  },
  {
   "cell_type": "code",
   "execution_count": 18,
   "id": "20de8977",
   "metadata": {},
   "outputs": [],
   "source": [
    "from sklearn.model_selection import train_test_split\n",
    "from sklearn.linear_model import RidgeCV, ElasticNetCV\n",
    "from sklearn.tree import DecisionTreeRegressor\n",
    "from sklearn.ensemble import RandomForestRegressor\n",
    "from sklearn.ensemble import GradientBoostingRegressor\n",
    "from sklearn.preprocessing import OneHotEncoder, StandardScaler, MinMaxScaler\n",
    "from sklearn.metrics import r2_score, mean_squared_error, mean_absolute_error"
   ]
  },
  {
   "cell_type": "code",
   "execution_count": 19,
   "id": "9c397704",
   "metadata": {},
   "outputs": [],
   "source": [
    "df['house_size'] = StandardScaler().fit_transform(df['house_size'].values.reshape(len(df), 1))\n",
    "df['price'] = StandardScaler().fit_transform(df['price'].values.reshape(len(df), 1))"
   ]
  },
  {
   "cell_type": "code",
   "execution_count": 20,
   "id": "c13fe3fe",
   "metadata": {},
   "outputs": [],
   "source": [
    "df['bed'] = MinMaxScaler().fit_transform(df['bed'].values.reshape(len(df), 1))\n",
    "df['bath'] = MinMaxScaler().fit_transform(df['bath'].values.reshape(len(df), 1))\n",
    "df['acre_lot'] = MinMaxScaler().fit_transform(df['acre_lot'].values.reshape(len(df), 1))"
   ]
  },
  {
   "cell_type": "code",
   "execution_count": 21,
   "id": "11ac7854",
   "metadata": {},
   "outputs": [],
   "source": [
    "df = df.sample(frac=0.02, random_state=42)\n",
    "\n",
    "X = df[['bed', 'bath', 'acre_lot', 'zip_code', 'house_size', 'city', 'state']]\n",
    "y = df['price']\n",
    "\n",
    "# one-hot encode the categorical features\n",
    "X = pd.get_dummies(X, columns=['city', 'state'])\n",
    "\n",
    "# split the data into training and testing sets\n",
    "X_train, X_test, y_train, y_test = train_test_split(X, y, test_size=0.2, random_state=42)"
   ]
  },
  {
   "cell_type": "markdown",
   "id": "272d3bf5",
   "metadata": {},
   "source": [
    "## Decision Tree Regression"
   ]
  },
  {
   "cell_type": "code",
   "execution_count": 22,
   "id": "71a937a0",
   "metadata": {},
   "outputs": [
    {
     "name": "stdout",
     "output_type": "stream",
     "text": [
      "Best parameters: {'max_depth': 9, 'min_samples_leaf': 7, 'min_samples_split': 2}\n"
     ]
    }
   ],
   "source": [
    "from sklearn.model_selection import GridSearchCV\n",
    "from sklearn.model_selection import cross_val_score\n",
    "\n",
    "# Define the parameter grid\n",
    "param_grid = {\n",
    "    'max_depth': range(1, 10),\n",
    "    'min_samples_split': range(2, 10),\n",
    "    'min_samples_leaf': range(1, 10)\n",
    "}\n",
    "\n",
    "# Initialize the Decision Tree regressor\n",
    "dt_regressor = DecisionTreeRegressor(random_state=42)\n",
    "\n",
    "# Initialize the GridSearchCV object\n",
    "grid_search = GridSearchCV(dt_regressor, param_grid, cv=5, scoring='neg_mean_squared_error')\n",
    "\n",
    "# Fit the GridSearchCV object to the data\n",
    "grid_search.fit(X_train, y_train)\n",
    "\n",
    "# Get the best parameters\n",
    "best_params = grid_search.best_params_\n",
    "\n",
    "# Fit the model on the training set using best parameters\n",
    "dt_regressor = DecisionTreeRegressor(max_depth=best_params['max_depth'], min_samples_split=best_params['min_samples_split'], min_samples_leaf=best_params['min_samples_leaf'], random_state=42)\n",
    "dt_regressor.fit(X_train, y_train)\n",
    "\n",
    "# Make predictions on the testing set\n",
    "dt_predictions = dt_regressor.predict(X_test)\n",
    "\n",
    "# Calculate the metrics\n",
    "mse_DT = mean_squared_error(y_test, dt_predictions)\n",
    "rmse_DT = mean_squared_error(y_test, dt_predictions, squared=False)\n",
    "r2_DT = r2_score(y_test, dt_predictions)\n",
    "\n",
    "print(f\"Best parameters: {best_params}\")"
   ]
  },
  {
   "cell_type": "code",
   "execution_count": 23,
   "id": "610d2ba4",
   "metadata": {},
   "outputs": [
    {
     "name": "stdout",
     "output_type": "stream",
     "text": [
      "Decision Tree Regression:\n",
      "MSE: 0.39813558066206794\n",
      "RMSE: 0.6309798575723855\n",
      "R^2 Score: 0.5525156464121388\n"
     ]
    }
   ],
   "source": [
    "# Print results for Decision Tree Regression\n",
    "print(\"Decision Tree Regression:\")\n",
    "print(f\"MSE: {mse_DT}\")\n",
    "print(f\"RMSE: {rmse_DT}\")\n",
    "print(f\"R^2 Score: {r2_DT}\")"
   ]
  },
  {
   "cell_type": "code",
   "execution_count": 49,
   "id": "23498281",
   "metadata": {},
   "outputs": [
    {
     "name": "stdout",
     "output_type": "stream",
     "text": [
      "Accuracy: 65.6686626746507%\n"
     ]
    }
   ],
   "source": [
    "# Define an acceptable error range\n",
    "error_range = 0.9\n",
    "\n",
    "# Calculate the absolute percent error for each prediction\n",
    "errors = np.abs((y_test - dt_predictions) / y_test)\n",
    "\n",
    "# Calculate the percentage of predictions that fall within the error range\n",
    "accuracy = 100 * np.mean(errors < error_range)\n",
    "\n",
    "print(f\"Accuracy: {accuracy}%\")"
   ]
  },
  {
   "cell_type": "markdown",
   "id": "f39ecacf",
   "metadata": {},
   "source": [
    "# Support Vector Machine (SVM) Regression"
   ]
  },
  {
   "cell_type": "code",
   "execution_count": 24,
   "id": "1d772cfc",
   "metadata": {},
   "outputs": [
    {
     "name": "stdout",
     "output_type": "stream",
     "text": [
      "Best parameters: {'C': 100, 'epsilon': 0.2}\n"
     ]
    }
   ],
   "source": [
    "from sklearn.model_selection import GridSearchCV\n",
    "\n",
    "# Define the parameter grid\n",
    "param_grid = {\n",
    "    'C': [0.1, 1, 10, 100],\n",
    "    'epsilon': [0.1, 0.2, 0.3, 0.4, 0.5],\n",
    "}\n",
    "\n",
    "# Initialize the SVM regressor\n",
    "svm_regressor = SVR(kernel='rbf')\n",
    "\n",
    "# Initialize the Grid Search model\n",
    "grid_search = GridSearchCV(svm_regressor, param_grid, cv=5, scoring='neg_mean_squared_error')\n",
    "\n",
    "# Fit the model on the training set\n",
    "grid_search.fit(X_train, y_train)\n",
    "\n",
    "# Get the best parameters\n",
    "best_params = grid_search.best_params_\n",
    "\n",
    "# Print the best parameters\n",
    "print(f\"Best parameters: {best_params}\")\n",
    "\n",
    "# Fit the model with the best parameters on the training set\n",
    "svm_regressor_best = SVR(kernel='rbf', C=best_params['C'], epsilon=best_params['epsilon'])\n",
    "svm_regressor_best.fit(X_train, y_train)\n",
    "\n",
    "# Make predictions on the testing set\n",
    "svm_predictions_best = svm_regressor_best.predict(X_test)\n",
    "\n",
    "# Calculate the metrics\n",
    "mse_SVM_best = mean_squared_error(y_test, svm_predictions_best)\n",
    "rmse_SVM_best = mean_squared_error(y_test, svm_predictions_best, squared=False)\n",
    "r2_SVM_best = r2_score(y_test, svm_predictions_best)"
   ]
  },
  {
   "cell_type": "code",
   "execution_count": 25,
   "id": "c4ee7b5e",
   "metadata": {},
   "outputs": [
    {
     "name": "stdout",
     "output_type": "stream",
     "text": [
      "SVM Regression with best parameters:\n",
      "MSE: 0.7307704226417572\n",
      "RMSE: 0.8548511113882681\n",
      "R^2 Score: 0.1786508263009653\n"
     ]
    }
   ],
   "source": [
    "\n",
    "# Print results for SVM Regression with best parameters\n",
    "print(\"SVM Regression with best parameters:\")\n",
    "print(f\"MSE: {mse_SVM_best}\")\n",
    "print(f\"RMSE: {rmse_SVM_best}\")\n",
    "print(f\"R^2 Score: {r2_SVM_best}\")"
   ]
  },
  {
   "cell_type": "code",
   "execution_count": 48,
   "id": "af62e25b",
   "metadata": {},
   "outputs": [
    {
     "name": "stdout",
     "output_type": "stream",
     "text": [
      "Accuracy: 50.29940119760479%\n"
     ]
    }
   ],
   "source": [
    "# Define an acceptable error range\n",
    "error_range = 0.9\n",
    "\n",
    "# Calculate the absolute percent error for each prediction\n",
    "errors = np.abs((y_test - svm_predictions_best) / y_test)\n",
    "\n",
    "# Calculate the percentage of predictions that fall within the error range\n",
    "accuracy = 100 * np.mean(errors < error_range)\n",
    "\n",
    "print(f\"Accuracy: {accuracy}%\")\n"
   ]
  },
  {
   "cell_type": "markdown",
   "id": "12d95894",
   "metadata": {},
   "source": [
    "# k-Nearest Neighbors (KNN) Regression"
   ]
  },
  {
   "cell_type": "code",
   "execution_count": 26,
   "id": "41503f85",
   "metadata": {},
   "outputs": [],
   "source": [
    "# Standardize the features\n",
    "scaler = StandardScaler()\n",
    "X_train_scaled = scaler.fit_transform(X_train)\n",
    "X_test_scaled = scaler.transform(X_test)\n",
    "\n",
    "# Specify the range of neighbors\n",
    "neighbors = np.arange(1, 30)\n",
    "\n",
    "# Feature selection\n",
    "selector = SelectKBest(score_func=f_regression, k=5)\n",
    "X_train_selected = selector.fit_transform(X_train_scaled, y_train)\n",
    "X_test_selected = selector.transform(X_test_scaled)\n",
    "\n",
    "# Specify the hyperparameter space\n",
    "param_grid = {'knn__n_neighbors': neighbors, 'knn__weights': ['uniform', 'distance'], 'knn__p': [1, 2, 3]}\n",
    "\n",
    "# Create KNN regressor\n",
    "knn_regressor = KNeighborsRegressor()\n",
    "\n",
    "# Create a pipeline\n",
    "pipe = Pipeline(steps=[('scaler', StandardScaler()), ('knn', knn_regressor)])\n",
    "\n",
    "# Instantiate the GridSearchCV object: knn_cv\n",
    "knn_cv = GridSearchCV(pipe, param_grid, cv=10)\n",
    "\n",
    "# Fit to the training set\n",
    "knn_cv.fit(X_train_selected, y_train)\n",
    "\n",
    "# Predict the labels of the test set: y_pred\n",
    "y_pred = knn_cv.predict(X_test_selected)\n",
    "\n",
    "# Compute and print metrics\n",
    "mse_KNN = mean_squared_error(y_test, y_pred)\n",
    "rmse_KNN = mean_squared_error(y_test, y_pred, squared=False)\n",
    "r2_KNN = r2_score(y_test, y_pred)"
   ]
  },
  {
   "cell_type": "code",
   "execution_count": 27,
   "id": "d3f07f38",
   "metadata": {},
   "outputs": [
    {
     "name": "stdout",
     "output_type": "stream",
     "text": [
      "Tuned KNN Regression Parameters: {'knn__n_neighbors': 28, 'knn__p': 2, 'knn__weights': 'uniform'}\n",
      "Best score is 0.47572992513949275\n",
      "MSE: 0.4724146093923868\n",
      "RMSE: 0.6873242389094005\n",
      "R^2 Score: 0.4690297567530243\n"
     ]
    }
   ],
   "source": [
    "print(\"Tuned KNN Regression Parameters: {}\".format(knn_cv.best_params_)) \n",
    "print(\"Best score is {}\".format(knn_cv.best_score_))\n",
    "print(\"MSE: {}\".format(mse_KNN))\n",
    "print(\"RMSE: {}\".format(rmse_KNN))\n",
    "print(\"R^2 Score: {}\".format(r2_KNN))"
   ]
  },
  {
   "cell_type": "code",
   "execution_count": 47,
   "id": "f65d1dcb",
   "metadata": {},
   "outputs": [
    {
     "name": "stdout",
     "output_type": "stream",
     "text": [
      "Accuracy: 62.07584830339321%\n"
     ]
    }
   ],
   "source": [
    "# Define an acceptable error range\n",
    "error_range = 0.9\n",
    "\n",
    "# Calculate the absolute percent error for each prediction\n",
    "errors = np.abs((y_test - y_pred) / y_test)\n",
    "\n",
    "# Calculate the percentage of predictions that fall within the error range\n",
    "accuracy = 100 * np.mean(errors < error_range)\n",
    "\n",
    "print(f\"Accuracy: {accuracy}%\")\n"
   ]
  },
  {
   "cell_type": "code",
   "execution_count": null,
   "id": "05291d41",
   "metadata": {},
   "outputs": [],
   "source": []
  }
 ],
 "metadata": {
  "kernelspec": {
   "display_name": "Python 3 (ipykernel)",
   "language": "python",
   "name": "python3"
  },
  "language_info": {
   "codemirror_mode": {
    "name": "ipython",
    "version": 3
   },
   "file_extension": ".py",
   "mimetype": "text/x-python",
   "name": "python",
   "nbconvert_exporter": "python",
   "pygments_lexer": "ipython3",
   "version": "3.10.9"
  }
 },
 "nbformat": 4,
 "nbformat_minor": 5
}
